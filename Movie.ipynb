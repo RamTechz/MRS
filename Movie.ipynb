{
 "cells": [
  {
   "cell_type": "code",
   "execution_count": 1,
   "id": "9cdb487d-3d4c-451a-a761-d2ef429f0d66",
   "metadata": {
    "ExecuteTime": {
     "end_time": "2024-12-08T14:46:13.645993Z",
     "start_time": "2024-12-08T14:46:12.367347Z"
    }
   },
   "outputs": [],
   "source": [
    "import numpy as np\n",
    "import pandas as pd\n",
    "import matplotlib.pyplot as plt"
   ]
  },
  {
   "cell_type": "code",
   "execution_count": 2,
   "id": "9c95d1a2-3236-425a-9205-912aee955dd9",
   "metadata": {
    "ExecuteTime": {
     "end_time": "2024-12-08T14:46:19.909613Z",
     "start_time": "2024-12-08T14:46:19.443533Z"
    }
   },
   "outputs": [],
   "source": [
    "credits = pd.read_csv(\"dataset/tmdb_5000_credits.csv\")\n",
    "movies = pd.read_csv(\"dataset/tmdb_5000_movies.csv\")"
   ]
  },
  {
   "cell_type": "code",
   "execution_count": 3,
   "id": "0c0abaf0-2132-43e2-8727-e6c67a66673c",
   "metadata": {
    "ExecuteTime": {
     "end_time": "2024-12-08T14:46:20.833708Z",
     "start_time": "2024-12-08T14:46:20.822149Z"
    }
   },
   "outputs": [
    {
     "data": {
      "text/html": [
       "<div>\n",
       "<style scoped>\n",
       "    .dataframe tbody tr th:only-of-type {\n",
       "        vertical-align: middle;\n",
       "    }\n",
       "\n",
       "    .dataframe tbody tr th {\n",
       "        vertical-align: top;\n",
       "    }\n",
       "\n",
       "    .dataframe thead th {\n",
       "        text-align: right;\n",
       "    }\n",
       "</style>\n",
       "<table border=\"1\" class=\"dataframe\">\n",
       "  <thead>\n",
       "    <tr style=\"text-align: right;\">\n",
       "      <th></th>\n",
       "      <th>movie_id</th>\n",
       "      <th>title</th>\n",
       "      <th>cast</th>\n",
       "      <th>crew</th>\n",
       "    </tr>\n",
       "  </thead>\n",
       "  <tbody>\n",
       "    <tr>\n",
       "      <th>0</th>\n",
       "      <td>19995</td>\n",
       "      <td>Avatar</td>\n",
       "      <td>[{\"cast_id\": 242, \"character\": \"Jake Sully\", \"...</td>\n",
       "      <td>[{\"credit_id\": \"52fe48009251416c750aca23\", \"de...</td>\n",
       "    </tr>\n",
       "  </tbody>\n",
       "</table>\n",
       "</div>"
      ],
      "text/plain": [
       "   movie_id   title                                               cast  \\\n",
       "0     19995  Avatar  [{\"cast_id\": 242, \"character\": \"Jake Sully\", \"...   \n",
       "\n",
       "                                                crew  \n",
       "0  [{\"credit_id\": \"52fe48009251416c750aca23\", \"de...  "
      ]
     },
     "execution_count": 3,
     "metadata": {},
     "output_type": "execute_result"
    }
   ],
   "source": [
    "credits.head(1)"
   ]
  },
  {
   "cell_type": "code",
   "execution_count": 4,
   "id": "b762060d-a574-48b0-9786-e7a317a4156a",
   "metadata": {
    "ExecuteTime": {
     "end_time": "2024-12-08T14:46:21.704069Z",
     "start_time": "2024-12-08T14:46:21.697936Z"
    }
   },
   "outputs": [
    {
     "data": {
      "text/plain": [
       "0    [{\"credit_id\": \"52fe48009251416c750aca23\", \"de...\n",
       "Name: crew, dtype: object"
      ]
     },
     "execution_count": 4,
     "metadata": {},
     "output_type": "execute_result"
    }
   ],
   "source": [
    "credits.head(1)['crew']"
   ]
  },
  {
   "cell_type": "code",
   "execution_count": 5,
   "id": "53e2ec7d-9a11-4b79-b000-4df86c03f0e0",
   "metadata": {
    "ExecuteTime": {
     "end_time": "2024-12-08T14:46:22.247378Z",
     "start_time": "2024-12-08T14:46:22.237270Z"
    }
   },
   "outputs": [
    {
     "data": {
      "text/html": [
       "<div>\n",
       "<style scoped>\n",
       "    .dataframe tbody tr th:only-of-type {\n",
       "        vertical-align: middle;\n",
       "    }\n",
       "\n",
       "    .dataframe tbody tr th {\n",
       "        vertical-align: top;\n",
       "    }\n",
       "\n",
       "    .dataframe thead th {\n",
       "        text-align: right;\n",
       "    }\n",
       "</style>\n",
       "<table border=\"1\" class=\"dataframe\">\n",
       "  <thead>\n",
       "    <tr style=\"text-align: right;\">\n",
       "      <th></th>\n",
       "      <th>budget</th>\n",
       "      <th>genres</th>\n",
       "      <th>homepage</th>\n",
       "      <th>id</th>\n",
       "      <th>keywords</th>\n",
       "      <th>original_language</th>\n",
       "      <th>original_title</th>\n",
       "      <th>overview</th>\n",
       "      <th>popularity</th>\n",
       "      <th>production_companies</th>\n",
       "      <th>production_countries</th>\n",
       "      <th>release_date</th>\n",
       "      <th>revenue</th>\n",
       "      <th>runtime</th>\n",
       "      <th>spoken_languages</th>\n",
       "      <th>status</th>\n",
       "      <th>tagline</th>\n",
       "      <th>title</th>\n",
       "      <th>vote_average</th>\n",
       "      <th>vote_count</th>\n",
       "    </tr>\n",
       "  </thead>\n",
       "  <tbody>\n",
       "    <tr>\n",
       "      <th>0</th>\n",
       "      <td>237000000</td>\n",
       "      <td>[{\"id\": 28, \"name\": \"Action\"}, {\"id\": 12, \"nam...</td>\n",
       "      <td>http://www.avatarmovie.com/</td>\n",
       "      <td>19995</td>\n",
       "      <td>[{\"id\": 1463, \"name\": \"culture clash\"}, {\"id\":...</td>\n",
       "      <td>en</td>\n",
       "      <td>Avatar</td>\n",
       "      <td>In the 22nd century, a paraplegic Marine is di...</td>\n",
       "      <td>150.437577</td>\n",
       "      <td>[{\"name\": \"Ingenious Film Partners\", \"id\": 289...</td>\n",
       "      <td>[{\"iso_3166_1\": \"US\", \"name\": \"United States o...</td>\n",
       "      <td>2009-12-10</td>\n",
       "      <td>2787965087</td>\n",
       "      <td>162.0</td>\n",
       "      <td>[{\"iso_639_1\": \"en\", \"name\": \"English\"}, {\"iso...</td>\n",
       "      <td>Released</td>\n",
       "      <td>Enter the World of Pandora.</td>\n",
       "      <td>Avatar</td>\n",
       "      <td>7.2</td>\n",
       "      <td>11800</td>\n",
       "    </tr>\n",
       "  </tbody>\n",
       "</table>\n",
       "</div>"
      ],
      "text/plain": [
       "      budget                                             genres  \\\n",
       "0  237000000  [{\"id\": 28, \"name\": \"Action\"}, {\"id\": 12, \"nam...   \n",
       "\n",
       "                      homepage     id  \\\n",
       "0  http://www.avatarmovie.com/  19995   \n",
       "\n",
       "                                            keywords original_language  \\\n",
       "0  [{\"id\": 1463, \"name\": \"culture clash\"}, {\"id\":...                en   \n",
       "\n",
       "  original_title                                           overview  \\\n",
       "0         Avatar  In the 22nd century, a paraplegic Marine is di...   \n",
       "\n",
       "   popularity                               production_companies  \\\n",
       "0  150.437577  [{\"name\": \"Ingenious Film Partners\", \"id\": 289...   \n",
       "\n",
       "                                production_countries release_date     revenue  \\\n",
       "0  [{\"iso_3166_1\": \"US\", \"name\": \"United States o...   2009-12-10  2787965087   \n",
       "\n",
       "   runtime                                   spoken_languages    status  \\\n",
       "0    162.0  [{\"iso_639_1\": \"en\", \"name\": \"English\"}, {\"iso...  Released   \n",
       "\n",
       "                       tagline   title  vote_average  vote_count  \n",
       "0  Enter the World of Pandora.  Avatar           7.2       11800  "
      ]
     },
     "execution_count": 5,
     "metadata": {},
     "output_type": "execute_result"
    }
   ],
   "source": [
    "movies.head(1)"
   ]
  },
  {
   "cell_type": "code",
   "execution_count": 6,
   "id": "311f19b5-0fb3-428e-be59-7db393bd5b6d",
   "metadata": {
    "ExecuteTime": {
     "end_time": "2024-12-08T14:46:22.579765Z",
     "start_time": "2024-12-08T14:46:22.575730Z"
    }
   },
   "outputs": [
    {
     "data": {
      "text/plain": [
       "(4803, 4)"
      ]
     },
     "execution_count": 6,
     "metadata": {},
     "output_type": "execute_result"
    }
   ],
   "source": [
    "credits.shape"
   ]
  },
  {
   "cell_type": "code",
   "execution_count": 7,
   "id": "6343efd6-c9cc-4a79-aa65-ce4c3b1d6455",
   "metadata": {
    "ExecuteTime": {
     "end_time": "2024-12-08T14:46:22.918988Z",
     "start_time": "2024-12-08T14:46:22.911010Z"
    }
   },
   "outputs": [],
   "source": [
    "movies = pd.merge(movies,credits,left_on='id',right_on='movie_id',how='inner')"
   ]
  },
  {
   "cell_type": "code",
   "execution_count": 8,
   "id": "68421c09-6fc2-4866-b0dd-54b7ee9dbcbd",
   "metadata": {
    "ExecuteTime": {
     "end_time": "2024-12-08T14:46:23.257922Z",
     "start_time": "2024-12-08T14:46:23.244093Z"
    }
   },
   "outputs": [
    {
     "name": "stdout",
     "output_type": "stream",
     "text": [
      "<class 'pandas.core.frame.DataFrame'>\n",
      "RangeIndex: 4803 entries, 0 to 4802\n",
      "Data columns (total 24 columns):\n",
      " #   Column                Non-Null Count  Dtype  \n",
      "---  ------                --------------  -----  \n",
      " 0   budget                4803 non-null   int64  \n",
      " 1   genres                4803 non-null   object \n",
      " 2   homepage              1712 non-null   object \n",
      " 3   id                    4803 non-null   int64  \n",
      " 4   keywords              4803 non-null   object \n",
      " 5   original_language     4803 non-null   object \n",
      " 6   original_title        4803 non-null   object \n",
      " 7   overview              4800 non-null   object \n",
      " 8   popularity            4803 non-null   float64\n",
      " 9   production_companies  4803 non-null   object \n",
      " 10  production_countries  4803 non-null   object \n",
      " 11  release_date          4802 non-null   object \n",
      " 12  revenue               4803 non-null   int64  \n",
      " 13  runtime               4801 non-null   float64\n",
      " 14  spoken_languages      4803 non-null   object \n",
      " 15  status                4803 non-null   object \n",
      " 16  tagline               3959 non-null   object \n",
      " 17  title_x               4803 non-null   object \n",
      " 18  vote_average          4803 non-null   float64\n",
      " 19  vote_count            4803 non-null   int64  \n",
      " 20  movie_id              4803 non-null   int64  \n",
      " 21  title_y               4803 non-null   object \n",
      " 22  cast                  4803 non-null   object \n",
      " 23  crew                  4803 non-null   object \n",
      "dtypes: float64(3), int64(5), object(16)\n",
      "memory usage: 900.7+ KB\n"
     ]
    }
   ],
   "source": [
    "movies.info()"
   ]
  },
  {
   "cell_type": "markdown",
   "id": "a9c024d3-26c7-4a42-b4ea-c4df16c9c984",
   "metadata": {},
   "source": [
    "# Feature Selection\n",
    "genres,\n",
    "id,\n",
    "keywords,\n",
    "overview,\n",
    "title_x,\n",
    "cast,\n",
    "crew."
   ]
  },
  {
   "cell_type": "markdown",
   "id": "d58eb1c8-ef5d-4981-b891-52d07c762b24",
   "metadata": {},
   "source": []
  },
  {
   "cell_type": "code",
   "execution_count": 9,
   "id": "3cbea0aa-d8e6-4e2e-9553-ce5c5839a773",
   "metadata": {
    "ExecuteTime": {
     "end_time": "2024-12-08T14:46:24.019856Z",
     "start_time": "2024-12-08T14:46:24.014623Z"
    }
   },
   "outputs": [],
   "source": [
    "df = movies[['id','title_x','keywords','genres','overview','cast','crew']]"
   ]
  },
  {
   "cell_type": "code",
   "execution_count": 10,
   "id": "51e05699-0e11-4116-baa4-7735ca665138",
   "metadata": {
    "ExecuteTime": {
     "end_time": "2024-12-08T14:46:24.305198Z",
     "start_time": "2024-12-08T14:46:24.295936Z"
    }
   },
   "outputs": [
    {
     "data": {
      "text/html": [
       "<div>\n",
       "<style scoped>\n",
       "    .dataframe tbody tr th:only-of-type {\n",
       "        vertical-align: middle;\n",
       "    }\n",
       "\n",
       "    .dataframe tbody tr th {\n",
       "        vertical-align: top;\n",
       "    }\n",
       "\n",
       "    .dataframe thead th {\n",
       "        text-align: right;\n",
       "    }\n",
       "</style>\n",
       "<table border=\"1\" class=\"dataframe\">\n",
       "  <thead>\n",
       "    <tr style=\"text-align: right;\">\n",
       "      <th></th>\n",
       "      <th>id</th>\n",
       "      <th>title_x</th>\n",
       "      <th>keywords</th>\n",
       "      <th>genres</th>\n",
       "      <th>overview</th>\n",
       "      <th>cast</th>\n",
       "      <th>crew</th>\n",
       "    </tr>\n",
       "  </thead>\n",
       "  <tbody>\n",
       "    <tr>\n",
       "      <th>0</th>\n",
       "      <td>19995</td>\n",
       "      <td>Avatar</td>\n",
       "      <td>[{\"id\": 1463, \"name\": \"culture clash\"}, {\"id\":...</td>\n",
       "      <td>[{\"id\": 28, \"name\": \"Action\"}, {\"id\": 12, \"nam...</td>\n",
       "      <td>In the 22nd century, a paraplegic Marine is di...</td>\n",
       "      <td>[{\"cast_id\": 242, \"character\": \"Jake Sully\", \"...</td>\n",
       "      <td>[{\"credit_id\": \"52fe48009251416c750aca23\", \"de...</td>\n",
       "    </tr>\n",
       "  </tbody>\n",
       "</table>\n",
       "</div>"
      ],
      "text/plain": [
       "      id title_x                                           keywords  \\\n",
       "0  19995  Avatar  [{\"id\": 1463, \"name\": \"culture clash\"}, {\"id\":...   \n",
       "\n",
       "                                              genres  \\\n",
       "0  [{\"id\": 28, \"name\": \"Action\"}, {\"id\": 12, \"nam...   \n",
       "\n",
       "                                            overview  \\\n",
       "0  In the 22nd century, a paraplegic Marine is di...   \n",
       "\n",
       "                                                cast  \\\n",
       "0  [{\"cast_id\": 242, \"character\": \"Jake Sully\", \"...   \n",
       "\n",
       "                                                crew  \n",
       "0  [{\"credit_id\": \"52fe48009251416c750aca23\", \"de...  "
      ]
     },
     "execution_count": 10,
     "metadata": {},
     "output_type": "execute_result"
    }
   ],
   "source": [
    "df.head(1)"
   ]
  },
  {
   "cell_type": "code",
   "execution_count": 11,
   "id": "143c16df-6409-4dcf-9623-4915853bbb0b",
   "metadata": {
    "ExecuteTime": {
     "end_time": "2024-12-08T14:46:24.554784Z",
     "start_time": "2024-12-08T14:46:24.550030Z"
    }
   },
   "outputs": [
    {
     "data": {
      "text/plain": [
       "(4803, 7)"
      ]
     },
     "execution_count": 11,
     "metadata": {},
     "output_type": "execute_result"
    }
   ],
   "source": [
    "df.shape"
   ]
  },
  {
   "cell_type": "code",
   "execution_count": 12,
   "id": "8e87ab03-3d34-478b-8ba9-597737db6f8a",
   "metadata": {
    "ExecuteTime": {
     "end_time": "2024-12-08T14:46:24.862350Z",
     "start_time": "2024-12-08T14:46:24.853615Z"
    }
   },
   "outputs": [
    {
     "data": {
      "text/plain": [
       "id          0\n",
       "title_x     0\n",
       "keywords    0\n",
       "genres      0\n",
       "overview    3\n",
       "cast        0\n",
       "crew        0\n",
       "dtype: int64"
      ]
     },
     "execution_count": 12,
     "metadata": {},
     "output_type": "execute_result"
    }
   ],
   "source": [
    "df.isnull().sum()"
   ]
  },
  {
   "cell_type": "code",
   "execution_count": 13,
   "id": "e0540d21-4ea3-473e-9417-3953fc17c1b6",
   "metadata": {
    "ExecuteTime": {
     "end_time": "2024-12-08T14:46:25.237607Z",
     "start_time": "2024-12-08T14:46:25.230223Z"
    }
   },
   "outputs": [
    {
     "name": "stderr",
     "output_type": "stream",
     "text": [
      "C:\\Users\\RAM R\\AppData\\Local\\Temp\\ipykernel_23264\\1379821321.py:1: SettingWithCopyWarning: \n",
      "A value is trying to be set on a copy of a slice from a DataFrame\n",
      "\n",
      "See the caveats in the documentation: https://pandas.pydata.org/pandas-docs/stable/user_guide/indexing.html#returning-a-view-versus-a-copy\n",
      "  df.dropna(inplace=True)\n"
     ]
    }
   ],
   "source": [
    "df.dropna(inplace=True)"
   ]
  },
  {
   "cell_type": "code",
   "execution_count": 14,
   "id": "e60e39e2-d4d0-4286-9dea-c879527dc42e",
   "metadata": {
    "ExecuteTime": {
     "end_time": "2024-12-08T14:46:26.865786Z",
     "start_time": "2024-12-08T14:46:26.856892Z"
    }
   },
   "outputs": [
    {
     "data": {
      "text/plain": [
       "id          0\n",
       "title_x     0\n",
       "keywords    0\n",
       "genres      0\n",
       "overview    0\n",
       "cast        0\n",
       "crew        0\n",
       "dtype: int64"
      ]
     },
     "execution_count": 14,
     "metadata": {},
     "output_type": "execute_result"
    }
   ],
   "source": [
    "df.isnull().sum()"
   ]
  },
  {
   "cell_type": "code",
   "execution_count": 15,
   "id": "c52f05a4-bdb5-4e15-8142-23ec33f32906",
   "metadata": {
    "ExecuteTime": {
     "end_time": "2024-12-08T14:46:27.587588Z",
     "start_time": "2024-12-08T14:46:27.582736Z"
    }
   },
   "outputs": [
    {
     "data": {
      "text/plain": [
       "(4800, 7)"
      ]
     },
     "execution_count": 15,
     "metadata": {},
     "output_type": "execute_result"
    }
   ],
   "source": [
    "df.shape"
   ]
  },
  {
   "cell_type": "code",
   "execution_count": 16,
   "id": "d636cbd6-3815-4c37-a37d-3cf295055dd8",
   "metadata": {
    "ExecuteTime": {
     "end_time": "2024-12-08T14:46:28.231564Z",
     "start_time": "2024-12-08T14:46:28.118625Z"
    }
   },
   "outputs": [
    {
     "data": {
      "text/plain": [
       "np.int64(0)"
      ]
     },
     "execution_count": 16,
     "metadata": {},
     "output_type": "execute_result"
    }
   ],
   "source": [
    "df.duplicated().sum()"
   ]
  },
  {
   "cell_type": "code",
   "execution_count": 17,
   "id": "9a3c92e9-dd72-47b5-b06f-45b69755a53b",
   "metadata": {
    "ExecuteTime": {
     "end_time": "2024-12-08T14:46:28.451889Z",
     "start_time": "2024-12-08T14:46:28.446110Z"
    }
   },
   "outputs": [
    {
     "data": {
      "text/plain": [
       "'[{\"id\": 28, \"name\": \"Action\"}, {\"id\": 12, \"name\": \"Adventure\"}, {\"id\": 14, \"name\": \"Fantasy\"}, {\"id\": 878, \"name\": \"Science Fiction\"}]'"
      ]
     },
     "execution_count": 17,
     "metadata": {},
     "output_type": "execute_result"
    }
   ],
   "source": [
    "df['genres'][0]"
   ]
  },
  {
   "cell_type": "code",
   "execution_count": 18,
   "id": "cdbf79dc-aaf3-4798-ab42-7c93a251c1a3",
   "metadata": {
    "ExecuteTime": {
     "end_time": "2024-12-08T14:46:28.774261Z",
     "start_time": "2024-12-08T14:46:28.770313Z"
    }
   },
   "outputs": [],
   "source": [
    "import ast\n",
    "def get(obj):\n",
    "    L=[]\n",
    "    for i in ast.literal_eval(obj):\n",
    "        L.append(i['name'])\n",
    "    return L\n",
    "        "
   ]
  },
  {
   "cell_type": "code",
   "execution_count": 19,
   "id": "2d226927-e4ad-430e-9f89-61b921f9024a",
   "metadata": {
    "ExecuteTime": {
     "end_time": "2024-12-08T14:46:29.262692Z",
     "start_time": "2024-12-08T14:46:29.101924Z"
    }
   },
   "outputs": [
    {
     "name": "stderr",
     "output_type": "stream",
     "text": [
      "C:\\Users\\RAM R\\AppData\\Local\\Temp\\ipykernel_23264\\2380570256.py:1: SettingWithCopyWarning: \n",
      "A value is trying to be set on a copy of a slice from a DataFrame.\n",
      "Try using .loc[row_indexer,col_indexer] = value instead\n",
      "\n",
      "See the caveats in the documentation: https://pandas.pydata.org/pandas-docs/stable/user_guide/indexing.html#returning-a-view-versus-a-copy\n",
      "  df['genres'] = df['genres'].apply(get)\n"
     ]
    }
   ],
   "source": [
    "df['genres'] = df['genres'].apply(get)"
   ]
  },
  {
   "cell_type": "code",
   "execution_count": 20,
   "id": "e3cf06ef-1ce4-4ad8-acaa-ba3c6034efcf",
   "metadata": {
    "ExecuteTime": {
     "end_time": "2024-12-08T14:46:29.779615Z",
     "start_time": "2024-12-08T14:46:29.411961Z"
    }
   },
   "outputs": [
    {
     "name": "stderr",
     "output_type": "stream",
     "text": [
      "C:\\Users\\RAM R\\AppData\\Local\\Temp\\ipykernel_23264\\3420673314.py:1: SettingWithCopyWarning: \n",
      "A value is trying to be set on a copy of a slice from a DataFrame.\n",
      "Try using .loc[row_indexer,col_indexer] = value instead\n",
      "\n",
      "See the caveats in the documentation: https://pandas.pydata.org/pandas-docs/stable/user_guide/indexing.html#returning-a-view-versus-a-copy\n",
      "  df['keywords'] = df['keywords'].apply(get)\n"
     ]
    }
   ],
   "source": [
    "df['keywords'] = df['keywords'].apply(get)"
   ]
  },
  {
   "cell_type": "code",
   "execution_count": 21,
   "id": "9a6e183d-0ce0-44f3-8bee-e2446d5c4b97",
   "metadata": {
    "ExecuteTime": {
     "end_time": "2024-12-08T14:46:29.789531Z",
     "start_time": "2024-12-08T14:46:29.785622Z"
    }
   },
   "outputs": [],
   "source": [
    "import ast\n",
    "def cas(obj):\n",
    "    L=[]\n",
    "    counter=0\n",
    "    for i in ast.literal_eval(obj):\n",
    "        if counter<4:\n",
    "            L.append(i['name'])\n",
    "            counter+=1\n",
    "        else:\n",
    "            break\n",
    "    return L\n",
    "     "
   ]
  },
  {
   "cell_type": "code",
   "execution_count": 22,
   "id": "6e52d8cb-fa80-4274-93b3-594b05e43999",
   "metadata": {
    "ExecuteTime": {
     "end_time": "2024-12-08T14:46:32.724937Z",
     "start_time": "2024-12-08T14:46:30.111530Z"
    }
   },
   "outputs": [
    {
     "name": "stderr",
     "output_type": "stream",
     "text": [
      "C:\\Users\\RAM R\\AppData\\Local\\Temp\\ipykernel_23264\\1504945717.py:1: SettingWithCopyWarning: \n",
      "A value is trying to be set on a copy of a slice from a DataFrame.\n",
      "Try using .loc[row_indexer,col_indexer] = value instead\n",
      "\n",
      "See the caveats in the documentation: https://pandas.pydata.org/pandas-docs/stable/user_guide/indexing.html#returning-a-view-versus-a-copy\n",
      "  df['cast'] = df['cast'].apply(cas)\n"
     ]
    }
   ],
   "source": [
    "df['cast'] = df['cast'].apply(cas)"
   ]
  },
  {
   "cell_type": "code",
   "execution_count": 23,
   "id": "d6af093b",
   "metadata": {
    "ExecuteTime": {
     "end_time": "2024-12-08T14:46:32.854861Z",
     "start_time": "2024-12-08T14:46:32.834656Z"
    }
   },
   "outputs": [
    {
     "data": {
      "text/plain": [
       "['Sam Worthington', 'Zoe Saldana', 'Sigourney Weaver', 'Stephen Lang']"
      ]
     },
     "execution_count": 23,
     "metadata": {},
     "output_type": "execute_result"
    }
   ],
   "source": [
    "df.head(1)['cast'][0]"
   ]
  },
  {
   "cell_type": "code",
   "execution_count": 24,
   "id": "bcf42b7b-39f3-424e-bcb8-abb695062113",
   "metadata": {
    "ExecuteTime": {
     "end_time": "2024-12-08T14:46:34.205587Z",
     "start_time": "2024-12-08T14:46:34.201070Z"
    }
   },
   "outputs": [],
   "source": [
    "import ast\n",
    "def director(obj):\n",
    "    L=[]\n",
    "    for i in ast.literal_eval(obj):\n",
    "        if i['job']=='Director':\n",
    "            L.append(i['name'])\n",
    "            break\n",
    "    return L\n",
    "      "
   ]
  },
  {
   "cell_type": "code",
   "execution_count": 25,
   "id": "7b1e90a8-ad13-4386-9186-e228cb16dddf",
   "metadata": {
    "ExecuteTime": {
     "end_time": "2024-12-08T14:46:39.910101Z",
     "start_time": "2024-12-08T14:46:36.898408Z"
    }
   },
   "outputs": [
    {
     "name": "stderr",
     "output_type": "stream",
     "text": [
      "C:\\Users\\RAM R\\AppData\\Local\\Temp\\ipykernel_23264\\746856341.py:1: SettingWithCopyWarning: \n",
      "A value is trying to be set on a copy of a slice from a DataFrame.\n",
      "Try using .loc[row_indexer,col_indexer] = value instead\n",
      "\n",
      "See the caveats in the documentation: https://pandas.pydata.org/pandas-docs/stable/user_guide/indexing.html#returning-a-view-versus-a-copy\n",
      "  df['crew'] = df['crew'].apply(director)\n"
     ]
    }
   ],
   "source": [
    "df['crew'] = df['crew'].apply(director)"
   ]
  },
  {
   "cell_type": "code",
   "execution_count": 26,
   "id": "c6a8597f",
   "metadata": {
    "ExecuteTime": {
     "end_time": "2024-12-08T14:46:41.549084Z",
     "start_time": "2024-12-08T14:46:41.543613Z"
    }
   },
   "outputs": [
    {
     "data": {
      "text/plain": [
       "['James Cameron']"
      ]
     },
     "execution_count": 26,
     "metadata": {},
     "output_type": "execute_result"
    }
   ],
   "source": [
    "df.head(1)['crew'][0]\n"
   ]
  },
  {
   "cell_type": "code",
   "execution_count": 27,
   "id": "b36acf5f",
   "metadata": {
    "ExecuteTime": {
     "end_time": "2024-12-08T14:46:44.457254Z",
     "start_time": "2024-12-08T14:46:44.452106Z"
    }
   },
   "outputs": [
    {
     "data": {
      "text/plain": [
       "'In the 22nd century, a paraplegic Marine is dispatched to the moon Pandora on a unique mission, but becomes torn between following orders and protecting an alien civilization.'"
      ]
     },
     "execution_count": 27,
     "metadata": {},
     "output_type": "execute_result"
    }
   ],
   "source": [
    "df['overview'][0]"
   ]
  },
  {
   "cell_type": "code",
   "execution_count": 28,
   "id": "5c972514",
   "metadata": {
    "ExecuteTime": {
     "end_time": "2024-12-08T14:46:45.670245Z",
     "start_time": "2024-12-08T14:46:45.644186Z"
    }
   },
   "outputs": [
    {
     "name": "stderr",
     "output_type": "stream",
     "text": [
      "C:\\Users\\RAM R\\AppData\\Local\\Temp\\ipykernel_23264\\2950014412.py:1: SettingWithCopyWarning: \n",
      "A value is trying to be set on a copy of a slice from a DataFrame.\n",
      "Try using .loc[row_indexer,col_indexer] = value instead\n",
      "\n",
      "See the caveats in the documentation: https://pandas.pydata.org/pandas-docs/stable/user_guide/indexing.html#returning-a-view-versus-a-copy\n",
      "  df['overview'] = df['overview'].apply(lambda x:x.split())\n"
     ]
    }
   ],
   "source": [
    "df['overview'] = df['overview'].apply(lambda x:x.split())"
   ]
  },
  {
   "cell_type": "code",
   "execution_count": 29,
   "id": "604158a3",
   "metadata": {
    "ExecuteTime": {
     "end_time": "2024-12-08T14:46:46.807964Z",
     "start_time": "2024-12-08T14:46:46.799056Z"
    }
   },
   "outputs": [
    {
     "data": {
      "text/html": [
       "<div>\n",
       "<style scoped>\n",
       "    .dataframe tbody tr th:only-of-type {\n",
       "        vertical-align: middle;\n",
       "    }\n",
       "\n",
       "    .dataframe tbody tr th {\n",
       "        vertical-align: top;\n",
       "    }\n",
       "\n",
       "    .dataframe thead th {\n",
       "        text-align: right;\n",
       "    }\n",
       "</style>\n",
       "<table border=\"1\" class=\"dataframe\">\n",
       "  <thead>\n",
       "    <tr style=\"text-align: right;\">\n",
       "      <th></th>\n",
       "      <th>id</th>\n",
       "      <th>title_x</th>\n",
       "      <th>keywords</th>\n",
       "      <th>genres</th>\n",
       "      <th>overview</th>\n",
       "      <th>cast</th>\n",
       "      <th>crew</th>\n",
       "    </tr>\n",
       "  </thead>\n",
       "  <tbody>\n",
       "    <tr>\n",
       "      <th>0</th>\n",
       "      <td>19995</td>\n",
       "      <td>Avatar</td>\n",
       "      <td>[culture clash, future, space war, space colon...</td>\n",
       "      <td>[Action, Adventure, Fantasy, Science Fiction]</td>\n",
       "      <td>[In, the, 22nd, century,, a, paraplegic, Marin...</td>\n",
       "      <td>[Sam Worthington, Zoe Saldana, Sigourney Weave...</td>\n",
       "      <td>[James Cameron]</td>\n",
       "    </tr>\n",
       "  </tbody>\n",
       "</table>\n",
       "</div>"
      ],
      "text/plain": [
       "      id title_x                                           keywords  \\\n",
       "0  19995  Avatar  [culture clash, future, space war, space colon...   \n",
       "\n",
       "                                          genres  \\\n",
       "0  [Action, Adventure, Fantasy, Science Fiction]   \n",
       "\n",
       "                                            overview  \\\n",
       "0  [In, the, 22nd, century,, a, paraplegic, Marin...   \n",
       "\n",
       "                                                cast             crew  \n",
       "0  [Sam Worthington, Zoe Saldana, Sigourney Weave...  [James Cameron]  "
      ]
     },
     "execution_count": 29,
     "metadata": {},
     "output_type": "execute_result"
    }
   ],
   "source": [
    "df.head(1)"
   ]
  },
  {
   "cell_type": "code",
   "execution_count": 30,
   "id": "2ce31eee",
   "metadata": {
    "ExecuteTime": {
     "end_time": "2024-12-08T14:46:47.835556Z",
     "start_time": "2024-12-08T14:46:47.828407Z"
    }
   },
   "outputs": [
    {
     "name": "stderr",
     "output_type": "stream",
     "text": [
      "C:\\Users\\RAM R\\AppData\\Local\\Temp\\ipykernel_23264\\3724843373.py:1: SettingWithCopyWarning: \n",
      "A value is trying to be set on a copy of a slice from a DataFrame.\n",
      "Try using .loc[row_indexer,col_indexer] = value instead\n",
      "\n",
      "See the caveats in the documentation: https://pandas.pydata.org/pandas-docs/stable/user_guide/indexing.html#returning-a-view-versus-a-copy\n",
      "  df['genres'] = df['genres'].apply(lambda x: [i.replace(\" \",\"\") for i in x])\n"
     ]
    }
   ],
   "source": [
    "df['genres'] = df['genres'].apply(lambda x: [i.replace(\" \",\"\") for i in x])"
   ]
  },
  {
   "cell_type": "code",
   "execution_count": 31,
   "id": "d98b0aba",
   "metadata": {
    "ExecuteTime": {
     "end_time": "2024-12-08T14:46:48.728361Z",
     "start_time": "2024-12-08T14:46:48.716574Z"
    }
   },
   "outputs": [
    {
     "name": "stderr",
     "output_type": "stream",
     "text": [
      "C:\\Users\\RAM R\\AppData\\Local\\Temp\\ipykernel_23264\\3422484759.py:1: SettingWithCopyWarning: \n",
      "A value is trying to be set on a copy of a slice from a DataFrame.\n",
      "Try using .loc[row_indexer,col_indexer] = value instead\n",
      "\n",
      "See the caveats in the documentation: https://pandas.pydata.org/pandas-docs/stable/user_guide/indexing.html#returning-a-view-versus-a-copy\n",
      "  df['cast'] = df['cast'].apply(lambda x: [i.replace(\" \",\"\") for i in x])\n"
     ]
    }
   ],
   "source": [
    "df['cast'] = df['cast'].apply(lambda x: [i.replace(\" \",\"\") for i in x])"
   ]
  },
  {
   "cell_type": "code",
   "execution_count": 32,
   "id": "c7405f6d",
   "metadata": {
    "ExecuteTime": {
     "end_time": "2024-12-08T14:46:49.616267Z",
     "start_time": "2024-12-08T14:46:49.592918Z"
    }
   },
   "outputs": [
    {
     "name": "stderr",
     "output_type": "stream",
     "text": [
      "C:\\Users\\RAM R\\AppData\\Local\\Temp\\ipykernel_23264\\982390001.py:1: SettingWithCopyWarning: \n",
      "A value is trying to be set on a copy of a slice from a DataFrame.\n",
      "Try using .loc[row_indexer,col_indexer] = value instead\n",
      "\n",
      "See the caveats in the documentation: https://pandas.pydata.org/pandas-docs/stable/user_guide/indexing.html#returning-a-view-versus-a-copy\n",
      "  df['crew'] = df['crew'].apply(lambda x: [i.replace(\" \",\"\") for i in x])\n",
      "C:\\Users\\RAM R\\AppData\\Local\\Temp\\ipykernel_23264\\982390001.py:2: SettingWithCopyWarning: \n",
      "A value is trying to be set on a copy of a slice from a DataFrame.\n",
      "Try using .loc[row_indexer,col_indexer] = value instead\n",
      "\n",
      "See the caveats in the documentation: https://pandas.pydata.org/pandas-docs/stable/user_guide/indexing.html#returning-a-view-versus-a-copy\n",
      "  df['keywords'] = df['keywords'].apply(lambda x: [i.replace(\" \",\"\") for i in x])\n"
     ]
    }
   ],
   "source": [
    "df['crew'] = df['crew'].apply(lambda x: [i.replace(\" \",\"\") for i in x])\n",
    "df['keywords'] = df['keywords'].apply(lambda x: [i.replace(\" \",\"\") for i in x])"
   ]
  },
  {
   "cell_type": "code",
   "execution_count": 33,
   "id": "ceb5caff",
   "metadata": {
    "ExecuteTime": {
     "end_time": "2024-12-08T14:46:50.605467Z",
     "start_time": "2024-12-08T14:46:50.492662Z"
    }
   },
   "outputs": [
    {
     "name": "stderr",
     "output_type": "stream",
     "text": [
      "C:\\Users\\RAM R\\AppData\\Local\\Temp\\ipykernel_23264\\3615335239.py:1: SettingWithCopyWarning: \n",
      "A value is trying to be set on a copy of a slice from a DataFrame.\n",
      "Try using .loc[row_indexer,col_indexer] = value instead\n",
      "\n",
      "See the caveats in the documentation: https://pandas.pydata.org/pandas-docs/stable/user_guide/indexing.html#returning-a-view-versus-a-copy\n",
      "  df['tags'] = df['keywords'] + df['genres'] + df['overview'] + df['cast'] + df['crew']\n"
     ]
    }
   ],
   "source": [
    "df['tags'] = df['keywords'] + df['genres'] + df['overview'] + df['cast'] + df['crew']"
   ]
  },
  {
   "cell_type": "code",
   "execution_count": 34,
   "id": "546dfd27",
   "metadata": {
    "ExecuteTime": {
     "end_time": "2024-12-08T14:46:53.485629Z",
     "start_time": "2024-12-08T14:46:53.477Z"
    }
   },
   "outputs": [
    {
     "data": {
      "text/html": [
       "<div>\n",
       "<style scoped>\n",
       "    .dataframe tbody tr th:only-of-type {\n",
       "        vertical-align: middle;\n",
       "    }\n",
       "\n",
       "    .dataframe tbody tr th {\n",
       "        vertical-align: top;\n",
       "    }\n",
       "\n",
       "    .dataframe thead th {\n",
       "        text-align: right;\n",
       "    }\n",
       "</style>\n",
       "<table border=\"1\" class=\"dataframe\">\n",
       "  <thead>\n",
       "    <tr style=\"text-align: right;\">\n",
       "      <th></th>\n",
       "      <th>id</th>\n",
       "      <th>title_x</th>\n",
       "      <th>keywords</th>\n",
       "      <th>genres</th>\n",
       "      <th>overview</th>\n",
       "      <th>cast</th>\n",
       "      <th>crew</th>\n",
       "      <th>tags</th>\n",
       "    </tr>\n",
       "  </thead>\n",
       "  <tbody>\n",
       "    <tr>\n",
       "      <th>0</th>\n",
       "      <td>19995</td>\n",
       "      <td>Avatar</td>\n",
       "      <td>[cultureclash, future, spacewar, spacecolony, ...</td>\n",
       "      <td>[Action, Adventure, Fantasy, ScienceFiction]</td>\n",
       "      <td>[In, the, 22nd, century,, a, paraplegic, Marin...</td>\n",
       "      <td>[SamWorthington, ZoeSaldana, SigourneyWeaver, ...</td>\n",
       "      <td>[JamesCameron]</td>\n",
       "      <td>[cultureclash, future, spacewar, spacecolony, ...</td>\n",
       "    </tr>\n",
       "  </tbody>\n",
       "</table>\n",
       "</div>"
      ],
      "text/plain": [
       "      id title_x                                           keywords  \\\n",
       "0  19995  Avatar  [cultureclash, future, spacewar, spacecolony, ...   \n",
       "\n",
       "                                         genres  \\\n",
       "0  [Action, Adventure, Fantasy, ScienceFiction]   \n",
       "\n",
       "                                            overview  \\\n",
       "0  [In, the, 22nd, century,, a, paraplegic, Marin...   \n",
       "\n",
       "                                                cast            crew  \\\n",
       "0  [SamWorthington, ZoeSaldana, SigourneyWeaver, ...  [JamesCameron]   \n",
       "\n",
       "                                                tags  \n",
       "0  [cultureclash, future, spacewar, spacecolony, ...  "
      ]
     },
     "execution_count": 34,
     "metadata": {},
     "output_type": "execute_result"
    }
   ],
   "source": [
    "df.head(1)"
   ]
  },
  {
   "cell_type": "code",
   "execution_count": 35,
   "id": "7e16f6f1",
   "metadata": {
    "ExecuteTime": {
     "end_time": "2024-12-08T14:46:55.026279Z",
     "start_time": "2024-12-08T14:46:55.021529Z"
    }
   },
   "outputs": [],
   "source": [
    "new_df = df[['id', 'title_x','tags']]"
   ]
  },
  {
   "cell_type": "code",
   "execution_count": 36,
   "id": "84c43b24",
   "metadata": {
    "ExecuteTime": {
     "end_time": "2024-12-08T14:46:55.910570Z",
     "start_time": "2024-12-08T14:46:55.896308Z"
    }
   },
   "outputs": [
    {
     "name": "stderr",
     "output_type": "stream",
     "text": [
      "C:\\Users\\RAM R\\AppData\\Local\\Temp\\ipykernel_23264\\4095421860.py:1: SettingWithCopyWarning: \n",
      "A value is trying to be set on a copy of a slice from a DataFrame.\n",
      "Try using .loc[row_indexer,col_indexer] = value instead\n",
      "\n",
      "See the caveats in the documentation: https://pandas.pydata.org/pandas-docs/stable/user_guide/indexing.html#returning-a-view-versus-a-copy\n",
      "  new_df['tags'] = new_df['tags'].apply(lambda x :\" \".join(x))\n"
     ]
    }
   ],
   "source": [
    "new_df['tags'] = new_df['tags'].apply(lambda x :\" \".join(x))"
   ]
  },
  {
   "cell_type": "code",
   "execution_count": 37,
   "id": "c0f410b5",
   "metadata": {
    "ExecuteTime": {
     "end_time": "2024-12-08T14:47:05.646997Z",
     "start_time": "2024-12-08T14:47:05.627997Z"
    }
   },
   "outputs": [
    {
     "name": "stderr",
     "output_type": "stream",
     "text": [
      "C:\\Users\\RAM R\\AppData\\Local\\Temp\\ipykernel_23264\\3214958533.py:1: SettingWithCopyWarning: \n",
      "A value is trying to be set on a copy of a slice from a DataFrame.\n",
      "Try using .loc[row_indexer,col_indexer] = value instead\n",
      "\n",
      "See the caveats in the documentation: https://pandas.pydata.org/pandas-docs/stable/user_guide/indexing.html#returning-a-view-versus-a-copy\n",
      "  new_df['tags'] = new_df['tags'].apply(lambda x:x.lower())\n"
     ]
    }
   ],
   "source": [
    "new_df['tags'] = new_df['tags'].apply(lambda x:x.lower())"
   ]
  },
  {
   "cell_type": "code",
   "execution_count": 38,
   "id": "f3e38bac",
   "metadata": {
    "ExecuteTime": {
     "end_time": "2024-12-08T14:47:06.833669Z",
     "start_time": "2024-12-08T14:47:06.820440Z"
    }
   },
   "outputs": [
    {
     "data": {
      "text/html": [
       "<div>\n",
       "<style scoped>\n",
       "    .dataframe tbody tr th:only-of-type {\n",
       "        vertical-align: middle;\n",
       "    }\n",
       "\n",
       "    .dataframe tbody tr th {\n",
       "        vertical-align: top;\n",
       "    }\n",
       "\n",
       "    .dataframe thead th {\n",
       "        text-align: right;\n",
       "    }\n",
       "</style>\n",
       "<table border=\"1\" class=\"dataframe\">\n",
       "  <thead>\n",
       "    <tr style=\"text-align: right;\">\n",
       "      <th></th>\n",
       "      <th>id</th>\n",
       "      <th>title_x</th>\n",
       "      <th>tags</th>\n",
       "    </tr>\n",
       "  </thead>\n",
       "  <tbody>\n",
       "    <tr>\n",
       "      <th>0</th>\n",
       "      <td>19995</td>\n",
       "      <td>Avatar</td>\n",
       "      <td>cultureclash future spacewar spacecolony socie...</td>\n",
       "    </tr>\n",
       "    <tr>\n",
       "      <th>1</th>\n",
       "      <td>285</td>\n",
       "      <td>Pirates of the Caribbean: At World's End</td>\n",
       "      <td>ocean drugabuse exoticisland eastindiatradingc...</td>\n",
       "    </tr>\n",
       "    <tr>\n",
       "      <th>2</th>\n",
       "      <td>206647</td>\n",
       "      <td>Spectre</td>\n",
       "      <td>spy basedonnovel secretagent sequel mi6 britis...</td>\n",
       "    </tr>\n",
       "    <tr>\n",
       "      <th>3</th>\n",
       "      <td>49026</td>\n",
       "      <td>The Dark Knight Rises</td>\n",
       "      <td>dccomics crimefighter terrorist secretidentity...</td>\n",
       "    </tr>\n",
       "    <tr>\n",
       "      <th>4</th>\n",
       "      <td>49529</td>\n",
       "      <td>John Carter</td>\n",
       "      <td>basedonnovel mars medallion spacetravel prince...</td>\n",
       "    </tr>\n",
       "  </tbody>\n",
       "</table>\n",
       "</div>"
      ],
      "text/plain": [
       "       id                                   title_x  \\\n",
       "0   19995                                    Avatar   \n",
       "1     285  Pirates of the Caribbean: At World's End   \n",
       "2  206647                                   Spectre   \n",
       "3   49026                     The Dark Knight Rises   \n",
       "4   49529                               John Carter   \n",
       "\n",
       "                                                tags  \n",
       "0  cultureclash future spacewar spacecolony socie...  \n",
       "1  ocean drugabuse exoticisland eastindiatradingc...  \n",
       "2  spy basedonnovel secretagent sequel mi6 britis...  \n",
       "3  dccomics crimefighter terrorist secretidentity...  \n",
       "4  basedonnovel mars medallion spacetravel prince...  "
      ]
     },
     "execution_count": 38,
     "metadata": {},
     "output_type": "execute_result"
    }
   ],
   "source": [
    "new_df.head()"
   ]
  },
  {
   "cell_type": "code",
   "execution_count": 39,
   "id": "1c8571c7",
   "metadata": {
    "ExecuteTime": {
     "end_time": "2024-12-08T14:47:19.753149Z",
     "start_time": "2024-12-08T14:47:19.747103Z"
    }
   },
   "outputs": [
    {
     "data": {
      "text/plain": [
       "'cultureclash future spacewar spacecolony society spacetravel futuristic romance space alien tribe alienplanet cgi marine soldier battle loveaffair antiwar powerrelations mindandsoul 3d action adventure fantasy sciencefiction in the 22nd century, a paraplegic marine is dispatched to the moon pandora on a unique mission, but becomes torn between following orders and protecting an alien civilization. samworthington zoesaldana sigourneyweaver stephenlang jamescameron'"
      ]
     },
     "execution_count": 39,
     "metadata": {},
     "output_type": "execute_result"
    }
   ],
   "source": [
    "new_df['tags'][0]"
   ]
  },
  {
   "cell_type": "code",
   "execution_count": 40,
   "id": "da457b5d-9b67-4b15-892a-a324655ce689",
   "metadata": {
    "ExecuteTime": {
     "end_time": "2024-12-08T14:47:22.541642Z",
     "start_time": "2024-12-08T14:47:21.190463Z"
    }
   },
   "outputs": [],
   "source": [
    "from sklearn.feature_extraction.text import CountVectorizer\n",
    "\n",
    "cv = CountVectorizer(max_features = 5000, stop_words = 'english')"
   ]
  },
  {
   "cell_type": "code",
   "execution_count": 41,
   "id": "b6abc02c",
   "metadata": {
    "ExecuteTime": {
     "end_time": "2024-12-08T14:47:23.852388Z",
     "start_time": "2024-12-08T14:47:23.512537Z"
    }
   },
   "outputs": [],
   "source": [
    "vector = cv.fit_transform(new_df['tags']).toarray()"
   ]
  },
  {
   "cell_type": "code",
   "execution_count": 42,
   "id": "2f72a13c",
   "metadata": {
    "ExecuteTime": {
     "end_time": "2024-12-08T14:47:25.596327Z",
     "start_time": "2024-12-08T14:47:25.590656Z"
    }
   },
   "outputs": [
    {
     "data": {
      "text/plain": [
       "array([0, 0, 0, ..., 0, 0, 0])"
      ]
     },
     "execution_count": 42,
     "metadata": {},
     "output_type": "execute_result"
    }
   ],
   "source": [
    "vector[0]"
   ]
  },
  {
   "cell_type": "code",
   "execution_count": 43,
   "id": "7aaaa7ac",
   "metadata": {
    "ExecuteTime": {
     "end_time": "2024-12-08T14:47:27.094763Z",
     "start_time": "2024-12-08T14:47:27.087288Z"
    }
   },
   "outputs": [
    {
     "data": {
      "text/plain": [
       "array(['000', '007', '10', ..., 'zone', 'zoo', 'zooeydeschanel'],\n",
       "      dtype=object)"
      ]
     },
     "execution_count": 43,
     "metadata": {},
     "output_type": "execute_result"
    }
   ],
   "source": [
    "cv.get_feature_names_out()"
   ]
  },
  {
   "cell_type": "code",
   "execution_count": 44,
   "id": "63e92f4b",
   "metadata": {
    "ExecuteTime": {
     "end_time": "2024-12-08T14:47:29.173211Z",
     "start_time": "2024-12-08T14:47:28.364915Z"
    }
   },
   "outputs": [],
   "source": [
    "from nltk.stem.porter import PorterStemmer"
   ]
  },
  {
   "cell_type": "code",
   "execution_count": 45,
   "id": "cb29948e",
   "metadata": {
    "ExecuteTime": {
     "end_time": "2024-12-08T14:47:30.687852Z",
     "start_time": "2024-12-08T14:47:30.683572Z"
    }
   },
   "outputs": [],
   "source": [
    "ps = PorterStemmer()"
   ]
  },
  {
   "cell_type": "code",
   "execution_count": 46,
   "id": "5ea3df73",
   "metadata": {
    "ExecuteTime": {
     "end_time": "2024-12-08T14:47:31.937317Z",
     "start_time": "2024-12-08T14:47:31.933440Z"
    }
   },
   "outputs": [],
   "source": [
    "def stem(text):\n",
    "    t = []\n",
    "    for i in text.split():\n",
    "        t.append(ps.stem(i))\n",
    "    return \" \".join(t)"
   ]
  },
  {
   "cell_type": "code",
   "execution_count": 47,
   "id": "5a0ebb33",
   "metadata": {
    "ExecuteTime": {
     "end_time": "2024-12-08T14:47:37.690460Z",
     "start_time": "2024-12-08T14:47:34.301184Z"
    }
   },
   "outputs": [
    {
     "name": "stderr",
     "output_type": "stream",
     "text": [
      "C:\\Users\\RAM R\\AppData\\Local\\Temp\\ipykernel_23264\\3213734980.py:1: SettingWithCopyWarning: \n",
      "A value is trying to be set on a copy of a slice from a DataFrame.\n",
      "Try using .loc[row_indexer,col_indexer] = value instead\n",
      "\n",
      "See the caveats in the documentation: https://pandas.pydata.org/pandas-docs/stable/user_guide/indexing.html#returning-a-view-versus-a-copy\n",
      "  new_df['tags'] = new_df['tags'].apply(stem)\n"
     ]
    }
   ],
   "source": [
    "new_df['tags'] = new_df['tags'].apply(stem)"
   ]
  },
  {
   "cell_type": "code",
   "execution_count": 48,
   "id": "5031e747",
   "metadata": {
    "ExecuteTime": {
     "end_time": "2024-12-08T14:47:39.278505Z",
     "start_time": "2024-12-08T14:47:39.272640Z"
    }
   },
   "outputs": [
    {
     "data": {
      "text/plain": [
       "(4800,)"
      ]
     },
     "execution_count": 48,
     "metadata": {},
     "output_type": "execute_result"
    }
   ],
   "source": [
    "new_df['tags'].shape"
   ]
  },
  {
   "cell_type": "code",
   "execution_count": 49,
   "id": "db7c5a77",
   "metadata": {
    "ExecuteTime": {
     "end_time": "2024-12-08T14:47:40.412808Z",
     "start_time": "2024-12-08T14:47:40.409160Z"
    }
   },
   "outputs": [],
   "source": [
    "from sklearn.metrics.pairwise import cosine_similarity"
   ]
  },
  {
   "cell_type": "code",
   "execution_count": 50,
   "id": "6a87cb10",
   "metadata": {
    "ExecuteTime": {
     "end_time": "2024-12-08T14:47:44.317321Z",
     "start_time": "2024-12-08T14:47:43.249359Z"
    }
   },
   "outputs": [],
   "source": [
    "similarity = cosine_similarity(vector)"
   ]
  },
  {
   "cell_type": "code",
   "execution_count": 51,
   "id": "bd7b7044",
   "metadata": {
    "ExecuteTime": {
     "end_time": "2024-12-08T14:47:45.277827Z",
     "start_time": "2024-12-08T14:47:45.265328Z"
    }
   },
   "outputs": [
    {
     "data": {
      "text/plain": [
       "[(12, np.float64(0.4342995181076895)),\n",
       " (17, np.float64(0.26940795304016235)),\n",
       " (199, np.float64(0.2671036121482476)),\n",
       " (3567, np.float64(0.2165063509461097)),\n",
       " (216, np.float64(0.2041241452319315))]"
      ]
     },
     "execution_count": 51,
     "metadata": {},
     "output_type": "execute_result"
    }
   ],
   "source": [
    "sorted(list(enumerate(similarity[1])), reverse =True , key = lambda x:x[1])[1:6]"
   ]
  },
  {
   "cell_type": "code",
   "execution_count": 52,
   "id": "2ad162e5",
   "metadata": {
    "ExecuteTime": {
     "end_time": "2024-12-08T14:47:47.057386Z",
     "start_time": "2024-12-08T14:47:47.049157Z"
    }
   },
   "outputs": [
    {
     "data": {
      "text/plain": [
       "Index([119], dtype='int64')"
      ]
     },
     "execution_count": 52,
     "metadata": {},
     "output_type": "execute_result"
    }
   ],
   "source": [
    "new_df[new_df['title_x']=='Batman Begins'].index"
   ]
  },
  {
   "cell_type": "code",
   "execution_count": 53,
   "id": "5c159e37",
   "metadata": {
    "ExecuteTime": {
     "end_time": "2024-12-08T16:45:39.097590Z",
     "start_time": "2024-12-08T16:45:39.093683Z"
    }
   },
   "outputs": [],
   "source": [
    "def recommend(movies):\n",
    "    movie_index = new_df[new_df['title_x']==movies].index[0]\n",
    "    distances = similarity[movie_index]\n",
    "    movie_list = sorted(list(enumerate(distances)), reverse =True , key = lambda x:x[1])[1:6]\n",
    "    for i in movie_list:\n",
    "        print(new_df.iloc[i[0]][0])\n",
    "        # Fatch poster\n",
    "        print(new_df.iloc[i[0]][1])\n",
    "        # print(new_df.iloc[i][0])\n",
    "\n"
   ]
  },
  {
   "cell_type": "code",
   "execution_count": 54,
   "id": "a5796121be07069a",
   "metadata": {
    "ExecuteTime": {
     "end_time": "2024-12-08T16:45:39.658111Z",
     "start_time": "2024-12-08T16:45:39.654141Z"
    }
   },
   "outputs": [
    {
     "name": "stderr",
     "output_type": "stream",
     "text": [
      "C:\\Users\\RAM R\\AppData\\Local\\Temp\\ipykernel_23264\\3781837699.py:1: FutureWarning: Series.__getitem__ treating keys as positions is deprecated. In a future version, integer keys will always be treated as labels (consistent with DataFrame behavior). To access a value by position, use `ser.iloc[pos]`\n",
      "  new_df.iloc[0][0]\n"
     ]
    },
    {
     "data": {
      "text/plain": [
       "np.int64(19995)"
      ]
     },
     "execution_count": 54,
     "metadata": {},
     "output_type": "execute_result"
    }
   ],
   "source": [
    "new_df.iloc[0][0]"
   ]
  },
  {
   "cell_type": "code",
   "execution_count": 55,
   "id": "b4bfc624",
   "metadata": {
    "ExecuteTime": {
     "end_time": "2024-12-08T16:45:40.875196Z",
     "start_time": "2024-12-08T16:45:40.868816Z"
    }
   },
   "outputs": [
    {
     "name": "stdout",
     "output_type": "stream",
     "text": [
      "200\n",
      "Star Trek: Insurrection\n",
      "2067\n",
      "Mission to Mars\n",
      "1771\n",
      "Captain America: The First Avenger\n",
      "10016\n",
      "Ghosts of Mars\n",
      "68179\n",
      "Escape from Planet Earth\n"
     ]
    },
    {
     "name": "stderr",
     "output_type": "stream",
     "text": [
      "C:\\Users\\RAM R\\AppData\\Local\\Temp\\ipykernel_23264\\2962228815.py:6: FutureWarning: Series.__getitem__ treating keys as positions is deprecated. In a future version, integer keys will always be treated as labels (consistent with DataFrame behavior). To access a value by position, use `ser.iloc[pos]`\n",
      "  print(new_df.iloc[i[0]][0])\n",
      "C:\\Users\\RAM R\\AppData\\Local\\Temp\\ipykernel_23264\\2962228815.py:8: FutureWarning: Series.__getitem__ treating keys as positions is deprecated. In a future version, integer keys will always be treated as labels (consistent with DataFrame behavior). To access a value by position, use `ser.iloc[pos]`\n",
      "  print(new_df.iloc[i[0]][1])\n"
     ]
    }
   ],
   "source": [
    "recommend('John Carter')"
   ]
  },
  {
   "cell_type": "code",
   "execution_count": 56,
   "id": "d6a76ed6",
   "metadata": {
    "ExecuteTime": {
     "end_time": "2024-12-08T14:54:55.256105Z",
     "start_time": "2024-12-08T14:54:55.248523Z"
    }
   },
   "outputs": [],
   "source": [
    "import pickle"
   ]
  },
  {
   "cell_type": "code",
   "execution_count": 57,
   "id": "af9e4f97",
   "metadata": {
    "ExecuteTime": {
     "end_time": "2024-12-08T14:56:05.292661Z",
     "start_time": "2024-12-08T14:56:05.272680Z"
    }
   },
   "outputs": [],
   "source": [
    "pickle.dump(new_df, open('Deploy/movies.pkl', 'wb'))"
   ]
  },
  {
   "cell_type": "code",
   "execution_count": null,
   "id": "55a156f86f81505a",
   "metadata": {
    "ExecuteTime": {
     "end_time": "2024-12-08T15:40:16.249682Z",
     "start_time": "2024-12-08T15:40:16.246150Z"
    }
   },
   "outputs": [],
   "source": []
  },
  {
   "cell_type": "code",
   "execution_count": 58,
   "id": "a8841c569ed6680f",
   "metadata": {
    "ExecuteTime": {
     "end_time": "2024-12-08T15:28:23.452649Z",
     "start_time": "2024-12-08T15:28:22.768963Z"
    }
   },
   "outputs": [],
   "source": [
    "pickle.dump(similarity, open('Deploy/similarity.pkl', 'wb'))"
   ]
  },
  {
   "cell_type": "code",
   "execution_count": null,
   "id": "8b885819",
   "metadata": {},
   "outputs": [],
   "source": []
  }
 ],
 "metadata": {
  "kernelspec": {
   "display_name": "env",
   "language": "python",
   "name": "python3"
  },
  "language_info": {
   "codemirror_mode": {
    "name": "ipython",
    "version": 3
   },
   "file_extension": ".py",
   "mimetype": "text/x-python",
   "name": "python",
   "nbconvert_exporter": "python",
   "pygments_lexer": "ipython3",
   "version": "3.13.1"
  }
 },
 "nbformat": 4,
 "nbformat_minor": 5
}
